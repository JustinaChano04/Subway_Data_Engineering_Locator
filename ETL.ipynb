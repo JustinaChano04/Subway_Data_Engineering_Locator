{
 "cells": [
  {
   "cell_type": "code",
   "execution_count": 892,
   "metadata": {},
   "outputs": [],
   "source": [
    "import pandas as pd\n",
    "import sqlite3\n",
    "import re\n",
    "from datetime import datetime, time\n",
    "from pytz import timezone\n",
    "import pytz\n"
   ]
  },
  {
   "cell_type": "code",
   "execution_count": 893,
   "metadata": {},
   "outputs": [],
   "source": [
    "dat = pd.read_csv(\"subway_locations_in_us.csv\")"
   ]
  },
  {
   "cell_type": "code",
   "execution_count": 894,
   "metadata": {},
   "outputs": [],
   "source": [
    "pd.set_option('display.max_columns', None)\n",
    "pd.set_option('display.max_rows', None)\n",
    "pd.set_option('display.max_colwidth', None)"
   ]
  },
  {
   "cell_type": "code",
   "execution_count": 895,
   "metadata": {},
   "outputs": [],
   "source": [
    "def remove_nan():\n",
    "    dat.fillna(' ', inplace = True)\n",
    "    dat.drop(columns = ['Unnamed: 0'], inplace=True, axis=1)"
   ]
  },
  {
   "cell_type": "code",
   "execution_count": 896,
   "metadata": {},
   "outputs": [],
   "source": [
    "def merge_address():\n",
    "    dat['address_1'] = dat['address_1'] + ' ' + dat['address_2']\n",
    "    dat.drop(['address_2'], inplace = True, axis = 1)"
   ]
  },
  {
   "cell_type": "code",
   "execution_count": 897,
   "metadata": {},
   "outputs": [],
   "source": [
    "def type_conversion():\n",
    "    dat['postal_code'] = dat['postal_code'].astype('string')\n",
    "    "
   ]
  },
  {
   "cell_type": "code",
   "execution_count": 898,
   "metadata": {},
   "outputs": [],
   "source": [
    "def remove_closed():\n",
    "    for i in range(len(dat)):\n",
    "        if dat['open_hours'][i].count('Closed Today') == 7:\n",
    "            dat.drop([i], inplace=True)\n",
    "        elif dat['open_hours'][i] == ' ':\n",
    "            dat.drop([i], inplace=True)\n",
    "        elif dat['open_hours'][i].find('Open 24 Hours') != -1:\n",
    "            dat['open_hours'][i] = dat['open_hours'][i].replace('Open 24 Hours', '12:00 AM - 12:00 PM')\n",
    "        \n",
    "    dat.reset_index(drop = True, inplace=True)\n",
    "            "
   ]
  },
  {
   "cell_type": "code",
   "execution_count": 899,
   "metadata": {},
   "outputs": [
    {
     "name": "stderr",
     "output_type": "stream",
     "text": [
      "/Users/justinchan/opt/anaconda3/lib/python3.7/site-packages/ipykernel_launcher.py:8: SettingWithCopyWarning: \n",
      "A value is trying to be set on a copy of a slice from a DataFrame\n",
      "\n",
      "See the caveats in the documentation: https://pandas.pydata.org/pandas-docs/stable/user_guide/indexing.html#returning-a-view-versus-a-copy\n",
      "  \n"
     ]
    }
   ],
   "source": [
    "remove_nan()\n",
    "merge_address()\n",
    "type_conversion()\n",
    "remove_closed()"
   ]
  },
  {
   "cell_type": "code",
   "execution_count": 900,
   "metadata": {},
   "outputs": [],
   "source": [
    "def open_times():\n",
    "    hours = []\n",
    "    for i in range(len(dat)):    \n",
    "        reg = re.findall(\"(Closed Today|\\d*:\\d\\d \\wM - \\d*:\\d\\d \\wM)\", dat['open_hours'][i])\n",
    "        if len(reg) != 7:\n",
    "            print(reg)\n",
    "        hours.append(reg)\n",
    "    return hours"
   ]
  },
  {
   "cell_type": "code",
   "execution_count": 901,
   "metadata": {},
   "outputs": [
    {
     "data": {
      "text/plain": [
       "time.struct_time(tm_year=2022, tm_mon=6, tm_mday=17, tm_hour=16, tm_min=54, tm_sec=51, tm_wday=4, tm_yday=168, tm_isdst=1)"
      ]
     },
     "execution_count": 901,
     "metadata": {},
     "output_type": "execute_result"
    }
   ],
   "source": [
    "tz = timezone('America/Los_Angeles')\n",
    "ts = datetime.now(tz).timetuple()\n",
    "ts"
   ]
  },
  {
   "cell_type": "code",
   "execution_count": 902,
   "metadata": {},
   "outputs": [
    {
     "data": {
      "text/html": [
       "<div>\n",
       "<style scoped>\n",
       "    .dataframe tbody tr th:only-of-type {\n",
       "        vertical-align: middle;\n",
       "    }\n",
       "\n",
       "    .dataframe tbody tr th {\n",
       "        vertical-align: top;\n",
       "    }\n",
       "\n",
       "    .dataframe thead th {\n",
       "        text-align: right;\n",
       "    }\n",
       "</style>\n",
       "<table border=\"1\" class=\"dataframe\">\n",
       "  <thead>\n",
       "    <tr style=\"text-align: right;\">\n",
       "      <th></th>\n",
       "      <th>title</th>\n",
       "      <th>address_1</th>\n",
       "      <th>open_hours</th>\n",
       "      <th>city</th>\n",
       "      <th>state</th>\n",
       "      <th>postal_code</th>\n",
       "      <th>latitude</th>\n",
       "      <th>longitude</th>\n",
       "    </tr>\n",
       "  </thead>\n",
       "  <tbody>\n",
       "    <tr>\n",
       "      <th>0</th>\n",
       "      <td>Tikahtnu Commons S/C</td>\n",
       "      <td>1118 N Muldoon Rd Suite 115</td>\n",
       "      <td>Closed Today    10:30 AM - 7:00 PM 10:30 AM - 7:00 PM 10:30 AM - 7:00 PM 10:30 AM - 8:00 PM 10:30 AM - 8:00 PM 10:30 AM - 7:00 PM</td>\n",
       "      <td>Anchorage</td>\n",
       "      <td>AK</td>\n",
       "      <td>99504</td>\n",
       "      <td>61.2037</td>\n",
       "      <td>-149.7447</td>\n",
       "    </tr>\n",
       "    <tr>\n",
       "      <th>1</th>\n",
       "      <td>1307 W Northern Lights</td>\n",
       "      <td>1307 W Northern Lights</td>\n",
       "      <td>9:00 AM - 9:00 PM 9:00 AM - 9:00 PM 9:00 AM - 9:00 PM 9:00 AM - 9:00 PM 9:00 AM - 9:00 PM 10:00 AM - 9:00 PM 11:00 AM - 8:00 PM</td>\n",
       "      <td>Anchorage</td>\n",
       "      <td>AK</td>\n",
       "      <td>99503</td>\n",
       "      <td>61.19</td>\n",
       "      <td>-149.8938</td>\n",
       "    </tr>\n",
       "    <tr>\n",
       "      <th>2</th>\n",
       "      <td>1330 Huffman Rd</td>\n",
       "      <td>1330 Huffman Rd</td>\n",
       "      <td>8:00 AM - 10:00 PM 8:00 AM - 10:00 PM 8:00 AM - 10:00 PM 8:00 AM - 10:00 PM 8:00 AM - 10:00 PM 9:00 AM - 9:00 PM 10:00 AM - 8:00 PM</td>\n",
       "      <td>Anchorage</td>\n",
       "      <td>AK</td>\n",
       "      <td>99515</td>\n",
       "      <td>61.1194</td>\n",
       "      <td>-149.8974</td>\n",
       "    </tr>\n",
       "    <tr>\n",
       "      <th>3</th>\n",
       "      <td>2715 E. Tudor Road</td>\n",
       "      <td>2715 E. Tudor Road</td>\n",
       "      <td>8:00 AM - 10:00 PM 8:00 AM - 10:00 PM 8:00 AM - 10:00 PM 8:00 AM - 10:00 PM 8:00 AM - 10:00 PM 10:00 AM - 10:00 PM 11:00 AM - 10:00 PM</td>\n",
       "      <td>Anchorage</td>\n",
       "      <td>AK</td>\n",
       "      <td>99507</td>\n",
       "      <td>61.1535</td>\n",
       "      <td>-149.8289</td>\n",
       "    </tr>\n",
       "    <tr>\n",
       "      <th>4</th>\n",
       "      <td>3104 Seward Hwy</td>\n",
       "      <td>3104 Seward Hwy</td>\n",
       "      <td>8:00 AM - 10:00 PM 8:00 AM - 10:00 PM 8:00 AM - 10:00 PM 8:00 AM - 10:00 PM 8:00 AM - 10:00 PM 10:00 AM - 10:00 PM 11:00 AM - 9:00 PM</td>\n",
       "      <td>Anchorage</td>\n",
       "      <td>AK</td>\n",
       "      <td>99503</td>\n",
       "      <td>61.19</td>\n",
       "      <td>-149.8938</td>\n",
       "    </tr>\n",
       "  </tbody>\n",
       "</table>\n",
       "</div>"
      ],
      "text/plain": [
       "                    title                    address_1  \\\n",
       "0    Tikahtnu Commons S/C  1118 N Muldoon Rd Suite 115   \n",
       "1  1307 W Northern Lights     1307 W Northern Lights     \n",
       "2         1330 Huffman Rd            1330 Huffman Rd     \n",
       "3      2715 E. Tudor Road         2715 E. Tudor Road     \n",
       "4         3104 Seward Hwy            3104 Seward Hwy     \n",
       "\n",
       "                                                                                                                                open_hours  \\\n",
       "0        Closed Today    10:30 AM - 7:00 PM 10:30 AM - 7:00 PM 10:30 AM - 7:00 PM 10:30 AM - 8:00 PM 10:30 AM - 8:00 PM 10:30 AM - 7:00 PM   \n",
       "1          9:00 AM - 9:00 PM 9:00 AM - 9:00 PM 9:00 AM - 9:00 PM 9:00 AM - 9:00 PM 9:00 AM - 9:00 PM 10:00 AM - 9:00 PM 11:00 AM - 8:00 PM   \n",
       "2      8:00 AM - 10:00 PM 8:00 AM - 10:00 PM 8:00 AM - 10:00 PM 8:00 AM - 10:00 PM 8:00 AM - 10:00 PM 9:00 AM - 9:00 PM 10:00 AM - 8:00 PM   \n",
       "3   8:00 AM - 10:00 PM 8:00 AM - 10:00 PM 8:00 AM - 10:00 PM 8:00 AM - 10:00 PM 8:00 AM - 10:00 PM 10:00 AM - 10:00 PM 11:00 AM - 10:00 PM   \n",
       "4    8:00 AM - 10:00 PM 8:00 AM - 10:00 PM 8:00 AM - 10:00 PM 8:00 AM - 10:00 PM 8:00 AM - 10:00 PM 10:00 AM - 10:00 PM 11:00 AM - 9:00 PM   \n",
       "\n",
       "        city state postal_code latitude longitude  \n",
       "0  Anchorage    AK       99504  61.2037 -149.7447  \n",
       "1  Anchorage    AK       99503    61.19 -149.8938  \n",
       "2  Anchorage    AK       99515  61.1194 -149.8974  \n",
       "3  Anchorage    AK       99507  61.1535 -149.8289  \n",
       "4  Anchorage    AK       99503    61.19 -149.8938  "
      ]
     },
     "execution_count": 902,
     "metadata": {},
     "output_type": "execute_result"
    }
   ],
   "source": [
    "dat.head()"
   ]
  },
  {
   "cell_type": "code",
   "execution_count": null,
   "metadata": {},
   "outputs": [],
   "source": []
  },
  {
   "cell_type": "code",
   "execution_count": 903,
   "metadata": {},
   "outputs": [],
   "source": [
    "#(X)Function to input data into database\n",
    "#Figure out how to query from sqlite3 from frontend\n",
    "#(X)Do we need data modelling for this project?"
   ]
  },
  {
   "cell_type": "code",
   "execution_count": 904,
   "metadata": {},
   "outputs": [
    {
     "data": {
      "text/plain": [
       "<sqlite3.Cursor at 0x7ff6504e5960>"
      ]
     },
     "execution_count": 904,
     "metadata": {},
     "output_type": "execute_result"
    }
   ],
   "source": [
    "con = sqlite3.connect('subways.db')\n",
    "cur = con.cursor()\n",
    "cur.execute('''CREATE TABLE subway \n",
    "                (title text, address_1 text, open_hours text, city text, \n",
    "                state text, postal_code varchar, latitude real, longitude real)''')"
   ]
  },
  {
   "cell_type": "code",
   "execution_count": 905,
   "metadata": {},
   "outputs": [],
   "source": [
    "def insert_db(df_row):\n",
    "    cur.execute(\"insert into subway values (?,?,?,?,?,?,?,?)\", (df_row[0], df_row[1], df_row[2], df_row[3], df_row[4], df_row[5], df_row[6], df_row[7]))\n",
    "    con.commit()"
   ]
  },
  {
   "cell_type": "code",
   "execution_count": 906,
   "metadata": {},
   "outputs": [],
   "source": [
    "for i in range(len(dat)):\n",
    "    insert_db(dat.loc[i])"
   ]
  },
  {
   "cell_type": "code",
   "execution_count": 889,
   "metadata": {},
   "outputs": [],
   "source": [
    "con.close()"
   ]
  }
 ],
 "metadata": {
  "kernelspec": {
   "display_name": "Python 3",
   "language": "python",
   "name": "python3"
  },
  "language_info": {
   "codemirror_mode": {
    "name": "ipython",
    "version": 3
   },
   "file_extension": ".py",
   "mimetype": "text/x-python",
   "name": "python",
   "nbconvert_exporter": "python",
   "pygments_lexer": "ipython3",
   "version": "3.7.6"
  }
 },
 "nbformat": 4,
 "nbformat_minor": 4
}
