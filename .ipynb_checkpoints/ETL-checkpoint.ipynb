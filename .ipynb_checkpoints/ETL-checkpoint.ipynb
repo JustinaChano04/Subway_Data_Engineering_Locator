{
 "cells": [
  {
   "cell_type": "code",
   "execution_count": 875,
   "metadata": {},
   "outputs": [],
   "source": [
    "import pandas as pd\n",
    "import sqlite3\n",
    "import re\n",
    "from datetime import datetime, time\n",
    "from pytz import timezone\n",
    "import pytz\n"
   ]
  },
  {
   "cell_type": "code",
   "execution_count": 876,
   "metadata": {},
   "outputs": [],
   "source": [
    "dat = pd.read_csv(\"subway_locations_in_us.csv\")"
   ]
  },
  {
   "cell_type": "code",
   "execution_count": 877,
   "metadata": {},
   "outputs": [],
   "source": [
    "pd.set_option('display.max_columns', None)\n",
    "pd.set_option('display.max_rows', None)\n",
    "pd.set_option('display.max_colwidth', None)"
   ]
  },
  {
   "cell_type": "code",
   "execution_count": 878,
   "metadata": {},
   "outputs": [],
   "source": [
    "def remove_nan():\n",
    "    dat.fillna(' ', inplace = True)\n",
    "    dat.drop(columns = ['Unnamed: 0'], inplace=True, axis=1)"
   ]
  },
  {
   "cell_type": "code",
   "execution_count": 879,
   "metadata": {},
   "outputs": [],
   "source": [
    "def merge_address():\n",
    "    dat['address_1'] = dat['address_1'] + ' ' + dat['address_2']\n",
    "    dat.drop(['address_2'], inplace = True, axis = 1)"
   ]
  },
  {
   "cell_type": "code",
   "execution_count": 880,
   "metadata": {},
   "outputs": [],
   "source": [
    "def type_conversion():\n",
    "    dat['postal_code'] = dat['postal_code'].astype('string')\n",
    "    "
   ]
  },
  {
   "cell_type": "code",
   "execution_count": 881,
   "metadata": {},
   "outputs": [],
   "source": [
    "def remove_closed():\n",
    "    for i in range(len(dat)):\n",
    "        if dat['open_hours'][i].count('Closed Today') == 7:\n",
    "            dat.drop([i], inplace=True)\n",
    "        elif dat['open_hours'][i] == ' ':\n",
    "            dat.drop([i], inplace=True)\n",
    "        elif dat['open_hours'][i].find('Open 24 Hours') != -1:\n",
    "            dat['open_hours'][i] = dat['open_hours'][i].replace('Open 24 Hours', '12:00 AM - 12:00 PM')\n",
    "        \n",
    "    dat.reset_index(drop = True, inplace=True)\n",
    "            "
   ]
  },
  {
   "cell_type": "code",
   "execution_count": 882,
   "metadata": {},
   "outputs": [
    {
     "name": "stderr",
     "output_type": "stream",
     "text": [
      "/Users/justinchan/opt/anaconda3/lib/python3.7/site-packages/ipykernel_launcher.py:8: SettingWithCopyWarning: \n",
      "A value is trying to be set on a copy of a slice from a DataFrame\n",
      "\n",
      "See the caveats in the documentation: https://pandas.pydata.org/pandas-docs/stable/user_guide/indexing.html#returning-a-view-versus-a-copy\n",
      "  \n"
     ]
    }
   ],
   "source": [
    "remove_nan()\n",
    "merge_address()\n",
    "type_conversion()\n",
    "remove_closed()"
   ]
  },
  {
   "cell_type": "code",
   "execution_count": 883,
   "metadata": {},
   "outputs": [],
   "source": [
    "def open_times():\n",
    "    hours = []\n",
    "    for i in range(len(dat)):    \n",
    "        reg = re.findall(\"(Closed Today|\\d*:\\d\\d \\wM - \\d*:\\d\\d \\wM)\", dat['open_hours'][i])\n",
    "        if len(reg) != 7:\n",
    "            print(reg)\n",
    "        hours.append(reg)\n",
    "    return hours"
   ]
  },
  {
   "cell_type": "code",
   "execution_count": 884,
   "metadata": {},
   "outputs": [
    {
     "data": {
      "text/plain": [
       "time.struct_time(tm_year=2022, tm_mon=6, tm_mday=10, tm_hour=15, tm_min=35, tm_sec=42, tm_wday=4, tm_yday=161, tm_isdst=1)"
      ]
     },
     "execution_count": 884,
     "metadata": {},
     "output_type": "execute_result"
    }
   ],
   "source": [
    "tz = timezone('America/Los_Angeles')\n",
    "ts = datetime.now(tz).timetuple()\n",
    "ts"
   ]
  },
  {
   "cell_type": "code",
   "execution_count": 885,
   "metadata": {},
   "outputs": [],
   "source": [
    "#(X)Function to input data into database\n",
    "#Figure out how to query from sqlite3 from frontend\n",
    "#(X)Do we need data modelling for this project?"
   ]
  },
  {
   "cell_type": "code",
   "execution_count": 886,
   "metadata": {},
   "outputs": [
    {
     "data": {
      "text/plain": [
       "<sqlite3.Cursor at 0x7ff651b7aab0>"
      ]
     },
     "execution_count": 886,
     "metadata": {},
     "output_type": "execute_result"
    }
   ],
   "source": [
    "con = sqlite3.connect('subways.db')\n",
    "cur = con.cursor()\n",
    "cur.execute('''CREATE TABLE subway \n",
    "                (title text, address_1 text, open_hours text, city text, \n",
    "                state text, postal_code varchar, latitude real, longitude real)''')"
   ]
  },
  {
   "cell_type": "code",
   "execution_count": 887,
   "metadata": {},
   "outputs": [],
   "source": [
    "def insert_db(df_row):\n",
    "    cur.execute(\"insert into subway values (?,?,?,?,?,?,?,?)\", (df_row[0], df_row[1], df_row[2], df_row[3], df_row[4], df_row[5], df_row[6], df_row[7]))\n",
    "    con.commit()"
   ]
  },
  {
   "cell_type": "code",
   "execution_count": null,
   "metadata": {},
   "outputs": [],
   "source": [
    "for i in range(len(dat)):\n",
    "    insert_db(dat.loc[i])"
   ]
  },
  {
   "cell_type": "code",
   "execution_count": null,
   "metadata": {},
   "outputs": [],
   "source": [
    "con.close()"
   ]
  },
  {
   "cell_type": "code",
   "execution_count": null,
   "metadata": {},
   "outputs": [],
   "source": []
  }
 ],
 "metadata": {
  "language_info": {
   "codemirror_mode": {
    "name": "ipython",
    "version": 3
   },
   "file_extension": ".py",
   "mimetype": "text/x-python",
   "name": "python",
   "nbconvert_exporter": "python",
   "pygments_lexer": "ipython3",
   "version": "3.7.6"
  }
 },
 "nbformat": 4,
 "nbformat_minor": 4
}
